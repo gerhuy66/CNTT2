{
 "cells": [
  {
   "cell_type": "code",
   "execution_count": null,
   "metadata": {},
   "outputs": [],
   "source": [
    "# from pdfminer3.layout import LAParams, LTTextBox\n",
    "# from pdfminer3.pdfpage import PDFPage\n",
    "# from pdfminer3.pdfinterp import PDFResourceManager\n",
    "# from pdfminer3.pdfinterp import PDFPageInterpreter\n",
    "# from pdfminer3.converter import PDFPageAggregator\n",
    "# from pdfminer3.converter import TextConverter\n",
    "from tika import parser\n",
    "import io\n",
    "import os\n",
    "import re\n",
    "# def pdf_to_text(file):\n",
    "#     resource_manager = PDFResourceManager()\n",
    "#     fake_file_handle = io.StringIO()\n",
    "#     converter = TextConverter(resource_manager, fake_file_handle, laparams=LAParams())\n",
    "#     page_interpreter = PDFPageInterpreter(resource_manager, converter)\n",
    "#     with open(file, 'rb') as fh:\n",
    "#         for page in PDFPage.get_pages(fh,\n",
    "#                                       caching=True,\n",
    "#                                       check_extractable=True):\n",
    "#             page_interpreter.process_page(page)\n",
    "#         text = fake_file_handle.getvalue()\n",
    "#     # close open handles\n",
    "#     converter.close()\n",
    "#     fake_file_handle.close()\n",
    "#     return text"
   ]
  },
  {
   "cell_type": "code",
   "execution_count": null,
   "metadata": {},
   "outputs": [],
   "source": [
    "import os\n",
    "#Read file and Open file\n",
    "f = os.listdir('pdf')\n",
    "for f1 in f:\n",
    "#     txt = pdf_to_text('pdf' + '/' + f1)\n",
    "    try:\n",
    "        raw = parser.from_file('pdf' + '/' + f1)\n",
    "        txtFile = open('txt' + '/' + f1.replace('.pdf','.txt'),'w', encoding=\"utf8\")\n",
    "        txtFile.write(re.sub(r\"\\n+\", \"\\n\", raw['content']))\n",
    "        txtFile.close()\n",
    "    except:\n",
    "        print(f1)"
   ]
  },
  {
   "cell_type": "code",
   "execution_count": 4,
   "metadata": {},
   "outputs": [],
   "source": [
    "import layoutparser as lp\n",
    "import cv2"
   ]
  },
  {
   "cell_type": "code",
   "execution_count": null,
   "metadata": {},
   "outputs": [],
   "source": [
    "image = cv2.imread()"
   ]
  }
 ],
 "metadata": {
  "kernelspec": {
   "display_name": "Python 3",
   "language": "python",
   "name": "python3"
  },
  "language_info": {
   "codemirror_mode": {
    "name": "ipython",
    "version": 3
   },
   "file_extension": ".py",
   "mimetype": "text/x-python",
   "name": "python",
   "nbconvert_exporter": "python",
   "pygments_lexer": "ipython3",
   "version": "3.7.3"
  }
 },
 "nbformat": 4,
 "nbformat_minor": 2
}
