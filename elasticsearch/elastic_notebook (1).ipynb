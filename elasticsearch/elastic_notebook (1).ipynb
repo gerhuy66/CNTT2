{
 "cells": [
  {
   "cell_type": "code",
   "execution_count": 2,
   "metadata": {},
   "outputs": [
    {
     "name": "stdout",
     "output_type": "stream",
     "text": [
      "Requirement already satisfied: elasticsearch in c:\\users\\admin\\appdata\\local\\programs\\python\\python38\\lib\\site-packages (7.12.1)\n",
      "Requirement already satisfied: urllib3<2,>=1.21.1 in c:\\users\\admin\\appdata\\local\\programs\\python\\python38\\lib\\site-packages (from elasticsearch) (1.25.11)\n",
      "Requirement already satisfied: certifi in c:\\users\\admin\\appdata\\local\\programs\\python\\python38\\lib\\site-packages (from elasticsearch) (2020.12.5)\n"
     ]
    },
    {
     "name": "stderr",
     "output_type": "stream",
     "text": [
      "WARNING: You are using pip version 21.0.1; however, version 21.1 is available.\n",
      "You should consider upgrading via the 'c:\\users\\admin\\appdata\\local\\programs\\python\\python38\\python.exe -m pip install --upgrade pip' command.\n"
     ]
    }
   ],
   "source": [
    "!pip install elasticsearch"
   ]
  },
  {
   "cell_type": "code",
   "execution_count": 4,
   "metadata": {},
   "outputs": [],
   "source": [
    "from elasticsearch import Elasticsearch\n",
    "es = Elasticsearch(HOST=\"http://localhost\", PORT=9200)\n",
    "es = Elasticsearch()\n",
    "# Creating index\n",
    "\n",
    "# es.indices.create(index=\"first_index\")"
   ]
  },
  {
   "cell_type": "code",
   "execution_count": 5,
   "metadata": {},
   "outputs": [
    {
     "data": {
      "text/plain": [
       "True"
      ]
     },
     "execution_count": 5,
     "metadata": {},
     "output_type": "execute_result"
    }
   ],
   "source": [
    "es.indices.exists(index=\"first_index\")"
   ]
  },
  {
   "cell_type": "code",
   "execution_count": null,
   "metadata": {},
   "outputs": [],
   "source": [
    "# Inserting data\n",
    "\n",
    "# doc_1 = {\"city\": \"Paris\", \"country\": \"France\"}\n",
    "# doc_2 = {\"city\": \"Vienna\", \"country\": \"Austria\"}\n",
    "# doc_3 = {\"city\": \"London\", \"country\": \"England\"}\n",
    "\n",
    "# es.index(index=\"cities\", doc_type=\"places\", id=1, body=doc_1)"
   ]
  },
  {
   "cell_type": "code",
   "execution_count": null,
   "metadata": {},
   "outputs": [],
   "source": [
    "# es.index(index=\"cities\", doc_type=\"places\", id=2, body=doc_2)"
   ]
  },
  {
   "cell_type": "code",
   "execution_count": null,
   "metadata": {},
   "outputs": [],
   "source": [
    "# es.index(index=\"cities\", doc_type=\"places\", id=2, body=doc_3)"
   ]
  },
  {
   "cell_type": "code",
   "execution_count": null,
   "metadata": {},
   "outputs": [],
   "source": [
    "\n",
    "# res = es.get(index=\"cities\", doc_type=\"places\", id=\"1\")\n",
    "\n",
    "# res"
   ]
  },
  {
   "cell_type": "code",
   "execution_count": null,
   "metadata": {},
   "outputs": [],
   "source": [
    "# doc_1 = {\"sentence\":\"Hack COVID-19 is amazing!\"}\n",
    "# doc_2 = {\"sentence\":\"Hack-Quarantine is stunning!\"}\n",
    "\n",
    "# es.index(index=\"english\", doc_type=\"sentences\", id=1, body=doc_1)\n",
    "# es.index(index=\"english\", doc_type=\"sentences\", id=2, body=doc_2)"
   ]
  },
  {
   "cell_type": "code",
   "execution_count": null,
   "metadata": {},
   "outputs": [],
   "source": [
    "# doc_4 = {\"sentence\":\"Con co be be Hack\"}\n",
    "# es.index(index=\"english\", doc_type=\"sentences\", id = 3,body=doc_4)"
   ]
  },
  {
   "cell_type": "code",
   "execution_count": 6,
   "metadata": {},
   "outputs": [
    {
     "name": "stderr",
     "output_type": "stream",
     "text": [
      "c:\\users\\admin\\appdata\\local\\programs\\python\\python38\\lib\\site-packages\\elasticsearch\\connection\\base.py:200: ElasticsearchWarning: [types removal] Specifying types in document get requests is deprecated, use the /{index}/_doc/{id} endpoint instead.\n",
      "  warnings.warn(message, category=ElasticsearchWarning)\n"
     ]
    },
    {
     "data": {
      "text/plain": [
       "{'_index': 'english',\n",
       " '_type': 'sentences',\n",
       " '_id': '1',\n",
       " '_version': 2,\n",
       " '_seq_no': 2,\n",
       " '_primary_term': 3,\n",
       " 'found': True,\n",
       " '_source': {'sentence': 'Hack COVID-19 is amazing!'}}"
      ]
     },
     "execution_count": 6,
     "metadata": {},
     "output_type": "execute_result"
    }
   ],
   "source": [
    "res = es.get(index=\"english\",doc_type=\"sentences\",id=1)\n",
    "res"
   ]
  },
  {
   "cell_type": "code",
   "execution_count": 7,
   "metadata": {},
   "outputs": [
    {
     "data": {
      "text/plain": [
       "{'sentence': 'Hack COVID-19 is amazing!'}"
      ]
     },
     "execution_count": 7,
     "metadata": {},
     "output_type": "execute_result"
    }
   ],
   "source": [
    "res[\"_source\"]"
   ]
  },
  {
   "cell_type": "code",
   "execution_count": 71,
   "metadata": {},
   "outputs": [
    {
     "data": {
      "text/plain": [
       "[{'_index': 'english',\n",
       "  '_type': 'sentences',\n",
       "  '_id': '3',\n",
       "  '_score': 1.0827224,\n",
       "  '_source': {'sentence': 'Con co be be Hack'}}]"
      ]
     },
     "execution_count": 71,
     "metadata": {},
     "output_type": "execute_result"
    }
   ],
   "source": [
    "body = {\n",
    "    \"from\":0,\n",
    "    \"size\":1,\n",
    "    \"query\": {\n",
    "        \"match\": {\n",
    "            \"sentence\":\"Con Hack\" \n",
    "        }\n",
    "    }\n",
    "}\n",
    "res = es.search(index=\"english\", body=body)\n",
    "res['hits']['hits']"
   ]
  },
  {
   "cell_type": "code",
   "execution_count": 17,
   "metadata": {},
   "outputs": [
    {
     "name": "stdout",
     "output_type": "stream",
     "text": [
      " Volume in drive D is New Volume\n",
      " Volume Serial Number is 2C61-F5B5\n",
      "\n",
      " Directory of D:\\study\\DUANCNTT2\\CV_SEARCH_FLASK\n",
      "\n",
      "04/30/2021  12:41 PM    <DIR>          .\n",
      "04/30/2021  12:41 PM    <DIR>          ..\n",
      "04/30/2021  12:39 PM    <DIR>          .ipynb_checkpoints\n",
      "04/29/2021  10:47 PM    <DIR>          app\n",
      "04/25/2021  11:47 PM                99 application.py\n",
      "04/29/2021  09:42 PM    <DIR>          cv_search_evn\n",
      "04/24/2021  09:53 AM             3,199 cv_text.txt\n",
      "04/30/2021  12:41 PM             8,226 elastic_notebook.ipynb\n",
      "               3 File(s)         11,524 bytes\n",
      "               5 Dir(s)  85,933,494,272 bytes free\n"
     ]
    }
   ],
   "source": [
    "!dir"
   ]
  },
  {
   "cell_type": "code",
   "execution_count": 55,
   "metadata": {},
   "outputs": [
    {
     "data": {
      "text/plain": [
       "'\\nXem CV Online của Nguyễn La Ngọc Lâm\\nNguyễn La Ngọc Lâm\\nNgày sinh: 21/11/1991\\nĐiện thoại: 0778730091\\nEmail: leslynora.666@gmail.com\\nĐịa chỉ: 103/3b ấp tân tiến,xuân thới đông,hóc môn\\nĐại học Tôn Đức Thắng 9/2009 - 5/2012\\nCông ty Cổ phần thế giới di động 08/2014 - 04/2019\\nCông ty Cổ phần thế giới di động 05/2014 - 05/2020\\nCông ty TNHH HSC BUTTON 05/2020 - Nay\\nCông ty thế giới di động 8/2014 - Tới nay\\nBằng cao đẳng công nghệ thông tin 9/2012\\nMỤC TIÊU NGHỀ NGHIỆP\\nPhát triển cùng công ty và có cơ hội học nhiều thêm các công việc của cty.\\nHỌC VẤN\\nChuyên ngành: Cao đẳng Công nghệ thông tin\\nTốt nghiệp loại khá,điểm trung bình 6.5\\nKINH NGHIỆM LÀM VIỆC\\nNhân viên hỗ trợ kỹ thuật.\\n- Giới thiệu, tư vấn sản phẩm, giải đáp các vấn đề thắc mắc của khách hàng về các sản phẩm,dịch vụ tiện ích\\ncủa công ty.\\n- Xử lý các vấn đề về phần mềm cho điện thoại,laptop,máy tính bảng.\\n- Giao nhận,lắp đặt các mặt hàng viễn thông,điện tử cho khách tại nhà.\\n- Cài mới,xử lý lỗi của các phần mềm văn phòng.\\n - Đi đường dây internet,cấu hình mạng,máy in,camera giám sát,tivi.\\nNhân viên kho\\n- Sắp xếp,phân loại,thống kế,bảo quản hàng hóa giá trị cao cho công ty.\\nNhân viên kế toán kho kèm IT\\n- Sắp xếp,phân loại,thống kế,bảo quản hàng hóa của công ty.\\n- Thống kế số lượng,sản lượng,năng suất làm việc và theo dõi tiến độ hoàn thành công việc của phân xưởng.\\n- Chịu trách nhiệm về hệ thống mạng Lan,wifi,máy tính,các thiết bị tin học khác của công ty.\\n- Thi công camera giám sát,máy in,máy chấm công.\\nHOẠT ĐỘNG\\nChuyên viên hãng apple\\nCHỨNG CHỈ\\nCÁC KỸ NĂNG\\nTin học văn phòng - Sử dụng thành thạo các công cụ Word, Excel, Power Point\\nThiết bị công nghệ - Cấu hình,lắp đặt được hầu hết các thiết bị văn phòng như : máy in,máy\\nfax,máy tính bàn,máy chấm công,Tivi,máy chiếu,các thiết bị kết nối mạng\\nnhư switch,router.\\n- Thiết lập các kết nối mạng trong văn phòng và công ty.\\nNgoại ngữ - Tiếng anh ở mức căn bản.\\nTHÔNG TIN THÊM\\nRất mong quý công ty cho cơ hội để trao đổi trực tiếp để hiểu rõ hơn tính cách,khả năng,mục tiêu nghề nghiệp.\\n© topcv.vn\\n Nguyễn La Ngọc Lâm\\n MỤC TIÊU NGHỀ NGHIỆP\\n HỌC VẤN\\n Đại học Tôn Đức Thắng\\n 9/2009\\n 5/2012\\n KINH NGHIỆM LÀM VIỆC\\n Công ty Cổ phần thế giới di động\\n 08/2014\\n 04/2019\\n Công ty Cổ phần thế giới di động\\n 05/2014\\n 05/2020\\n Công ty TNHH HSC BUTTON\\n 05/2020\\n Nay\\n HOẠT ĐỘNG\\n Công ty thế giới di động\\n 8/2014\\n Tới nay\\n CHỨNG CHỈ\\n Bằng cao đẳng công nghệ thông tin\\n 9/2012\\n CÁC KỸ NĂNG\\n Tin học văn phòng\\n Thiết bị công nghệ\\n Ngoại ngữ\\n THÔNG TIN THÊM\\n'"
      ]
     },
     "execution_count": 55,
     "metadata": {},
     "output_type": "execute_result"
    }
   ],
   "source": [
    "f = open(\"cv_text.txt\", encoding=\"utf-8\")\n",
    "lines = f.readlines()\n",
    "vn_last_name = [\"nguyễn\",\"trần\",\"võ\",\"huỳnh\",\"đặng\",\"lê\",\"phạm\",\"huỳnh\",\"hoàng\",\"đỗ\",\"phan\",\"ngô\",\"dương\",\"lý\"]\n",
    "cv_profile = {}\n",
    "cv_profile[\"cv_content\"] = \"\"\n",
    "for line in lines:\n",
    "    cv_profile[\"cv_content\"] = cv_profile[\"cv_content\"]+line\n",
    "    line = line.lower()\n",
    "    if line.split(\" \")[0] in vn_last_name:\n",
    "        if \"full_name\" not in cv_profile:\n",
    "            cv_profile[\"full_name\"] = line\n",
    "            \n",
    "    if \"ngày sinh:\" in line or \"birthday\" in line:\n",
    "        if \"birth_date\" not in cv_profile:\n",
    "            cv_profile[\"birth_date\"] = line.split(\":\")[1].strip()\n",
    "            \n",
    "    if \"điện thoại:\" in line or \"phone\" in line:\n",
    "        if \"phone\" not in cv_profile:\n",
    "            cv_profile[\"phone\"] = line.split(\":\")[1].strip()\n",
    "            \n",
    "    if \"Email:\" in line:\n",
    "        if \"email\" not in cv_profile:\n",
    "            cv_profile[\"email\"] = line.split(\":\")[1].strip()\n",
    "    if \"địa chỉ\" in line:\n",
    "        if \"address\" not in cv_profile:\n",
    "            cv_profile[\"address\"] = line.split(\":\")[1].strip()\n",
    "    \n",
    "    if \"nghành\" in line:\n",
    "        if \"major\" not in cv_profile:\n",
    "            cv_profile[\"major\"] = line.replace(\"nghành\",\"\")\n",
    "cv_profile[\"cv_content\"].replace(\"\\\\n\",\"\")\n",
    "cv_profile[\"cv_content\"].replace(\"\\t\",\" \") "
   ]
  },
  {
   "cell_type": "code",
   "execution_count": 57,
   "metadata": {},
   "outputs": [
    {
     "name": "stderr",
     "output_type": "stream",
     "text": [
      "c:\\users\\admin\\appdata\\local\\programs\\python\\python38\\lib\\site-packages\\elasticsearch\\connection\\base.py:200: ElasticsearchWarning: [types removal] Specifying types in document index requests is deprecated, use the typeless endpoints instead (/{index}/_doc/{id}, /{index}/_doc, or /{index}/_create/{id}).\n",
      "  warnings.warn(message, category=ElasticsearchWarning)\n"
     ]
    },
    {
     "data": {
      "text/plain": [
       "{'_index': 'cv',\n",
       " '_type': 'cv',\n",
       " '_id': '1',\n",
       " '_version': 1,\n",
       " 'result': 'created',\n",
       " '_shards': {'total': 2, 'successful': 1, 'failed': 0},\n",
       " '_seq_no': 0,\n",
       " '_primary_term': 1}"
      ]
     },
     "execution_count": 57,
     "metadata": {},
     "output_type": "execute_result"
    }
   ],
   "source": [
    "es.index(index=\"cv\",doc_type=\"cv\",id=1,body=cv_profile)"
   ]
  },
  {
   "cell_type": "code",
   "execution_count": 75,
   "metadata": {},
   "outputs": [
    {
     "data": {
      "text/plain": [
       "{'cv_content': '\\nXem CV Online của Nguyễn La Ngọc Lâm\\nNguyễn La Ngọc Lâm\\nNgày sinh: 21/11/1991\\nĐiện thoại: 0778730091\\nEmail: leslynora.666@gmail.com\\nĐịa chỉ: 103/3b ấp tân tiến,xuân thới đông,hóc môn\\nĐại học Tôn Đức Thắng 9/2009 - 5/2012\\nCông ty Cổ phần thế giới di động 08/2014 - 04/2019\\nCông ty Cổ phần thế giới di động 05/2014 - 05/2020\\nCông ty TNHH HSC BUTTON 05/2020 - Nay\\nCông ty thế giới di động 8/2014 - Tới nay\\nBằng cao đẳng công nghệ thông tin 9/2012\\nMỤC TIÊU NGHỀ NGHIỆP\\nPhát triển cùng công ty và có cơ hội học nhiều thêm các công việc của cty.\\nHỌC VẤN\\nChuyên ngành: Cao đẳng Công nghệ thông tin\\nTốt nghiệp loại khá,điểm trung bình 6.5\\nKINH NGHIỆM LÀM VIỆC\\nNhân viên hỗ trợ kỹ thuật.\\n- Giới thiệu, tư vấn sản phẩm, giải đáp các vấn đề thắc mắc của khách hàng về các sản phẩm,dịch vụ tiện ích\\ncủa công ty.\\n- Xử lý các vấn đề về phần mềm cho điện thoại,laptop,máy tính bảng.\\n- Giao nhận,lắp đặt các mặt hàng viễn thông,điện tử cho khách tại nhà.\\n- Cài mới,xử lý lỗi của các phần mềm văn phòng.\\n - Đi đường dây internet,cấu hình mạng,máy in,camera giám sát,tivi.\\nNhân viên kho\\n- Sắp xếp,phân loại,thống kế,bảo quản hàng hóa giá trị cao cho công ty.\\nNhân viên kế toán kho kèm IT\\n- Sắp xếp,phân loại,thống kế,bảo quản hàng hóa của công ty.\\n- Thống kế số lượng,sản lượng,năng suất làm việc và theo dõi tiến độ hoàn thành công việc của phân xưởng.\\n- Chịu trách nhiệm về hệ thống mạng Lan,wifi,máy tính,các thiết bị tin học khác của công ty.\\n- Thi công camera giám sát,máy in,máy chấm công.\\nHOẠT ĐỘNG\\nChuyên viên hãng apple\\nCHỨNG CHỈ\\nCÁC KỸ NĂNG\\nTin học văn phòng - Sử dụng thành thạo các công cụ Word, Excel, Power Point\\nThiết bị công nghệ - Cấu hình,lắp đặt được hầu hết các thiết bị văn phòng như : máy in,máy\\nfax,máy tính bàn,máy chấm công,Tivi,máy chiếu,các thiết bị kết nối mạng\\nnhư switch,router.\\n- Thiết lập các kết nối mạng trong văn phòng và công ty.\\nNgoại ngữ - Tiếng anh ở mức căn bản.\\nTHÔNG TIN THÊM\\nRất mong quý công ty cho cơ hội để trao đổi trực tiếp để hiểu rõ hơn tính cách,khả năng,mục tiêu nghề nghiệp.\\n© topcv.vn\\n\\tNguyễn La Ngọc Lâm\\n\\tMỤC TIÊU NGHỀ NGHIỆP\\n\\tHỌC VẤN\\n\\tĐại học Tôn Đức Thắng\\n\\t9/2009\\n\\t5/2012\\n\\tKINH NGHIỆM LÀM VIỆC\\n\\tCông ty Cổ phần thế giới di động\\n\\t08/2014\\n\\t04/2019\\n\\tCông ty Cổ phần thế giới di động\\n\\t05/2014\\n\\t05/2020\\n\\tCông ty TNHH HSC BUTTON\\n\\t05/2020\\n\\tNay\\n\\tHOẠT ĐỘNG\\n\\tCông ty thế giới di động\\n\\t8/2014\\n\\tTới nay\\n\\tCHỨNG CHỈ\\n\\tBằng cao đẳng công nghệ thông tin\\n\\t9/2012\\n\\tCÁC KỸ NĂNG\\n\\tTin học văn phòng\\n\\tThiết bị công nghệ\\n\\tNgoại ngữ\\n\\tTHÔNG TIN THÊM\\n',\n",
       " 'full_name': 'nguyễn la ngọc lâm\\n',\n",
       " 'birth_date': '21/11/1991',\n",
       " 'phone': '0778730091',\n",
       " 'address': '103/3b ấp tân tiến,xuân thới đông,hóc môn'}"
      ]
     },
     "execution_count": 75,
     "metadata": {},
     "output_type": "execute_result"
    }
   ],
   "source": [
    "search_def = {\n",
    "    \"from\":0,\n",
    "    \"size\":1,\n",
    "    \"query\": {\n",
    "        \"match\": {\n",
    "            \"address\":\"hóc môn\" \n",
    "        }\n",
    "    }\n",
    "}\n",
    "\n",
    "res = es.search(index=\"cv\",body=search_def)\n",
    "res['hits']['hits'][0]['_source']"
   ]
  }
 ],
 "metadata": {
  "kernelspec": {
   "display_name": "Python 3",
   "language": "python",
   "name": "python3"
  },
  "language_info": {
   "codemirror_mode": {
    "name": "ipython",
    "version": 3
   },
   "file_extension": ".py",
   "mimetype": "text/x-python",
   "name": "python",
   "nbconvert_exporter": "python",
   "pygments_lexer": "ipython3",
   "version": "3.7.3"
  }
 },
 "nbformat": 4,
 "nbformat_minor": 5
}
